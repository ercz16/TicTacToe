{
 "cells": [
  {
   "cell_type": "markdown",
   "id": "3df1b657",
   "metadata": {},
   "source": [
    "# Final Game tictactoe dataset"
   ]
  },
  {
   "cell_type": "markdown",
   "id": "7896d014",
   "metadata": {},
   "source": [
    "## Load the dataset"
   ]
  },
  {
   "cell_type": "code",
   "execution_count": null,
   "id": "ba86cfe7",
   "metadata": {},
   "outputs": [],
   "source": [
    "import numpy as np\n",
    "from sklearn.model_selection import cross_val_score, train_test_split\n",
    "from sklearn.svm import SVC\n",
    "from sklearn.metrics import accuracy_score, confusion_matrix\n",
    "\n",
    "A = np.loadtxt('./datasets-part1/tictac_final.txt')\n",
    "np.random.shuffle(A)\n",
    "X = A[:,:9]\n",
    "y = A[:,9:]"
   ]
  },
  {
   "cell_type": "code",
   "execution_count": null,
   "id": "1213f564",
   "metadata": {},
   "outputs": [],
   "source": [
    "X[0]"
   ]
  },
  {
   "cell_type": "code",
   "execution_count": null,
   "id": "9952e5f0",
   "metadata": {},
   "outputs": [],
   "source": [
    "y[0]"
   ]
  },
  {
   "cell_type": "markdown",
   "id": "8edd8dea",
   "metadata": {},
   "source": [
    "## Split the dataset"
   ]
  },
  {
   "cell_type": "code",
   "execution_count": null,
   "id": "acfa91ff",
   "metadata": {},
   "outputs": [],
   "source": [
    "X_train, X_test, y_train, y_test = train_test_split(X, y, test_size=0.2, random_state=51)"
   ]
  },
  {
   "cell_type": "markdown",
   "id": "61294930",
   "metadata": {},
   "source": [
    "## Initialize and train the linear SVM model on final training set"
   ]
  },
  {
   "cell_type": "code",
   "execution_count": null,
   "id": "ba880179",
   "metadata": {},
   "outputs": [],
   "source": [
    "svm_model = SVC(kernel='linear')\n",
    "svm_model.fit(X_train, y_train)"
   ]
  },
  {
   "cell_type": "markdown",
   "id": "f6333558",
   "metadata": {},
   "source": [
    "## KNN final data"
   ]
  },
  {
   "cell_type": "code",
   "execution_count": null,
   "id": "48bdb8b5",
   "metadata": {},
   "outputs": [],
   "source": [
    "from sklearn.neighbors import KNeighborsClassifier"
   ]
  },
  {
   "cell_type": "markdown",
   "id": "ccfaf22d",
   "metadata": {},
   "source": [
    "## Cross-Validation (10 fold)"
   ]
  },
  {
   "cell_type": "code",
   "execution_count": null,
   "id": "d3b264fe",
   "metadata": {},
   "outputs": [],
   "source": [
    "k = 10  # Number of folds\n",
    "cv_scores = cross_val_score(SVC(kernel='linear'), X, y, cv=k)"
   ]
  },
  {
   "cell_type": "markdown",
   "id": "3986a29d",
   "metadata": {},
   "source": [
    "## Output Accuracy for final boards"
   ]
  },
  {
   "cell_type": "code",
   "execution_count": null,
   "id": "0a2b3cb4",
   "metadata": {},
   "outputs": [],
   "source": [
    "accuracy = cv_scores.mean()\n",
    "print(f\"Accuracy: {accuracy}\")"
   ]
  },
  {
   "cell_type": "markdown",
   "id": "5216308e",
   "metadata": {},
   "source": [
    "## Confusion Matrix for final boards"
   ]
  },
  {
   "cell_type": "code",
   "execution_count": null,
   "id": "e9f5bc31",
   "metadata": {},
   "outputs": [],
   "source": [
    "y_pred = svm_model.predict(X_test)  # If you split the data\n",
    "conf_matrix = confusion_matrix(y_test, y_pred)\n",
    "print(\"Confusion Matrix:\")\n",
    "print(conf_matrix)"
   ]
  },
  {
   "cell_type": "markdown",
   "id": "8dbeb9af",
   "metadata": {},
   "source": [
    "# Intermediate Dataset (Single Label)"
   ]
  },
  {
   "cell_type": "code",
   "execution_count": null,
   "id": "a350a42c",
   "metadata": {},
   "outputs": [],
   "source": [
    "import numpy as np\n",
    "from sklearn.model_selection import cross_val_score, train_test_split\n",
    "from sklearn.svm import SVC\n",
    "from sklearn.metrics import accuracy_score, confusion_matrix\n",
    "\n",
    "B = np.loadtxt('./datasets-part1/tictac_single.txt')\n",
    "np.random.shuffle(B)\n",
    "X_single = B[:,:9]\n",
    "y_single = B[:,9:]"
   ]
  },
  {
   "cell_type": "code",
   "execution_count": null,
   "id": "d012b104",
   "metadata": {},
   "outputs": [],
   "source": [
    "X_single[0]"
   ]
  },
  {
   "cell_type": "code",
   "execution_count": null,
   "id": "ebb1ef16",
   "metadata": {},
   "outputs": [],
   "source": [
    "y_single[0]"
   ]
  },
  {
   "cell_type": "markdown",
   "id": "dfbff08a",
   "metadata": {},
   "source": [
    "\n",
    "\n",
    "\n",
    "\n",
    "## Split the dataset"
   ]
  },
  {
   "cell_type": "code",
   "execution_count": null,
   "id": "30233172",
   "metadata": {},
   "outputs": [],
   "source": [
    "X_train_single, X_test_single, y_train_single, y_test_single = train_test_split(X_single, y_single, test_size=0.2, random_state=51)"
   ]
  },
  {
   "cell_type": "markdown",
   "id": "90d46ba9",
   "metadata": {},
   "source": [
    "## Initialize and train linear SVM"
   ]
  },
  {
   "cell_type": "code",
   "execution_count": null,
   "id": "15f4c5cb",
   "metadata": {},
   "outputs": [],
   "source": [
    "svm_model_single = SVC(kernel='linear')\n",
    "svm_model_single.fit(X_train_single, y_train_single)"
   ]
  },
  {
   "cell_type": "markdown",
   "id": "d0b16463",
   "metadata": {},
   "source": [
    "## Initialize KNN"
   ]
  },
  {
   "cell_type": "code",
   "execution_count": null,
   "id": "4469a010",
   "metadata": {},
   "outputs": [],
   "source": [
    "from sklearn.neighbors import KNeighborsClassifier\n",
    "\n",
    "# Define the number of neighbors (k) for KNN\n",
    "k_neighbors = 5\n",
    "\n",
    "# Initialize the KNN classifier\n",
    "knn_classifier = KNeighborsClassifier(n_neighbors=k_neighbors)\n",
    "knn_classifier.fit(X_train_single, y_train_single)"
   ]
  },
  {
   "cell_type": "markdown",
   "id": "026a65db",
   "metadata": {},
   "source": [
    "## Init MLP"
   ]
  },
  {
   "cell_type": "code",
   "execution_count": null,
   "id": "791b6c61",
   "metadata": {},
   "outputs": [],
   "source": [
    "from sklearn.neural_network import MLPClassifier\n",
    "\n",
    "# Define the architecture of the MLP (you can adjust these parameters)\n",
    "hidden_layer_sizes = (100, 50)  # Two hidden layers with 100 and 50 units, respectively\n",
    "\n",
    "# Initialize the MLP classifier\n",
    "mlp_classifier = MLPClassifier(hidden_layer_sizes=hidden_layer_sizes, max_iter=1000)\n",
    "mlp_classifier.fit(X_train_single, y_train_single)"
   ]
  },
  {
   "cell_type": "markdown",
   "id": "080b3e65",
   "metadata": {},
   "source": [
    "## Cross Validation"
   ]
  },
  {
   "cell_type": "code",
   "execution_count": null,
   "id": "da838889",
   "metadata": {
    "scrolled": true
   },
   "outputs": [],
   "source": [
    "k = 10  # Number of folds\n",
    "# SVM\n",
    "cv_scores_single = cross_val_score(SVC(kernel='linear'), X_single, y_single, cv=k)\n",
    "\n",
    "# KNN\n",
    "cv_scores_single_KNN = cross_val_score(KNeighborsClassifier(n_neighbors=k_neighbors), X_single, y_single, cv=k)                                    "
   ]
  },
  {
   "cell_type": "code",
   "execution_count": null,
   "id": "a270b009",
   "metadata": {},
   "outputs": [],
   "source": [
    "# Mutilayer perceptron\n",
    "cv_scores_single_MLP = cross_val_score(MLPClassifier(hidden_layer_sizes=hidden_layer_sizes, max_iter=1000), X_single, y_single, cv=k)"
   ]
  },
  {
   "cell_type": "markdown",
   "id": "b0639768",
   "metadata": {},
   "source": [
    "## Accuracy"
   ]
  },
  {
   "cell_type": "code",
   "execution_count": null,
   "id": "9d12c0c3",
   "metadata": {},
   "outputs": [],
   "source": [
    "accuracy_single = cv_scores_single.mean()\n",
    "print(f\"SVM Accuracy: {accuracy_single}\")\n",
    "\n",
    "accuracy_single_KNN = cv_scores_single_KNN.mean()\n",
    "print(f\"KNN Accuracy: {accuracy_single_KNN}\")\n",
    "\n",
    "accuracy_single_MLP = cv_scores_single_MLP.mean()\n",
    "print(f\"MLP Accuracy: {accuracy_single_MLP}\")"
   ]
  },
  {
   "cell_type": "markdown",
   "id": "c1c5b203",
   "metadata": {},
   "source": [
    "## Confusion Matrix"
   ]
  },
  {
   "cell_type": "code",
   "execution_count": null,
   "id": "f75a1e13",
   "metadata": {},
   "outputs": [],
   "source": [
    "y_pred_single = svm_model_single.predict(X_test_single)\n",
    "conf_matrix_single = confusion_matrix(y_test_single, y_pred_single)\n",
    "print(\"SVM Confusion Matrix:\")\n",
    "print(conf_matrix_single)"
   ]
  },
  {
   "cell_type": "code",
   "execution_count": null,
   "id": "d938f501",
   "metadata": {},
   "outputs": [],
   "source": [
    "y_pred_single_KNN = knn_classifier.predict(X_test_single)\n",
    "conf_matrix_single_KNN = confusion_matrix(y_test_single, y_pred_single_KNN)\n",
    "print(\"KNN Confusion Matrix:\")\n",
    "print(conf_matrix_single_KNN)"
   ]
  },
  {
   "cell_type": "code",
   "execution_count": null,
   "id": "d580c977",
   "metadata": {},
   "outputs": [],
   "source": [
    "y_pred_single_MLP = mlp_classifier.predict(X_test_single)\n",
    "conf_matrix_single_MLP = confusion_matrix(y_test_single, y_pred_single_MLP)\n",
    "print(\"MLP Confusion Matrix:\")\n",
    "print(conf_matrix_single_MLP)"
   ]
  },
  {
   "cell_type": "markdown",
   "id": "bbf3ca33",
   "metadata": {},
   "source": [
    "## Save models"
   ]
  },
  {
   "cell_type": "code",
   "execution_count": null,
   "id": "1aaf64f4",
   "metadata": {},
   "outputs": [],
   "source": [
    "import joblib\n",
    "\n",
    "model_filename = 'linear_svm_model_single.pkl'\n",
    "joblib.dump(svm_model_single, model_filename)\n",
    "\n",
    "knn_file = 'knn_model_single.pk1'\n",
    "joblib.dump(knn_classifier, knn_file)\n",
    "\n",
    "mlp_file = 'mlp_model_single.pk1'\n",
    "joblib.dump(mlp_classifier, mlp_file)"
   ]
  },
  {
   "cell_type": "markdown",
   "id": "12bc4bb4",
   "metadata": {},
   "source": [
    "# Intermediate Dataset (Multi Label)"
   ]
  },
  {
   "cell_type": "code",
   "execution_count": 1,
   "id": "58b0456f",
   "metadata": {},
   "outputs": [],
   "source": [
    "import numpy as np\n",
    "from sklearn.model_selection import cross_val_score, train_test_split\n",
    "from sklearn.svm import SVC\n",
    "from sklearn.metrics import accuracy_score, confusion_matrix\n",
    "\n",
    "C = np.loadtxt('./datasets-part1/tictac_multi.txt')\n",
    "np.random.shuffle(C)\n",
    "X_multi = C[:,:9]\n",
    "y_multi = C[:,9:]"
   ]
  },
  {
   "cell_type": "code",
   "execution_count": 2,
   "id": "a450fbb3",
   "metadata": {},
   "outputs": [
    {
     "data": {
      "text/plain": [
       "array([ 0., -1.,  1., -1.,  1., -1.,  0.,  1.,  1.])"
      ]
     },
     "execution_count": 2,
     "metadata": {},
     "output_type": "execute_result"
    }
   ],
   "source": [
    "X_multi[0]"
   ]
  },
  {
   "cell_type": "code",
   "execution_count": 3,
   "id": "818c8c78",
   "metadata": {},
   "outputs": [
    {
     "data": {
      "text/plain": [
       "array([1., 0., 0., 0., 0., 0., 1., 0., 0.])"
      ]
     },
     "execution_count": 3,
     "metadata": {},
     "output_type": "execute_result"
    }
   ],
   "source": [
    "y_multi[0]"
   ]
  },
  {
   "cell_type": "markdown",
   "id": "28b6739f",
   "metadata": {},
   "source": [
    "## Split dataset"
   ]
  },
  {
   "cell_type": "code",
   "execution_count": 4,
   "id": "0f98f18a",
   "metadata": {},
   "outputs": [],
   "source": [
    "X_train_multi, X_test_multi, y_train_multi, y_test_multi = train_test_split(X_multi, y_multi, test_size=0.2, random_state=51)"
   ]
  },
  {
   "cell_type": "markdown",
   "id": "e9125354",
   "metadata": {},
   "source": [
    "## Init Regressor models"
   ]
  },
  {
   "cell_type": "code",
   "execution_count": 6,
   "id": "e85ff1a4",
   "metadata": {},
   "outputs": [],
   "source": [
    "from sklearn.neighbors import KNeighborsRegressor\n",
    "from sklearn.linear_model import LinearRegression\n",
    "from sklearn.neural_network import MLPRegressor\n",
    "from sklearn.metrics import mean_squared_error, r2_score\n",
    "\n",
    "# Initialize KNN\n",
    "knn_regressor = KNeighborsRegressor(n_neighbors=5)"
   ]
  },
  {
   "cell_type": "code",
   "execution_count": 7,
   "id": "17c786da",
   "metadata": {},
   "outputs": [],
   "source": [
    "# Linear Regression\n",
    "linear_regression = LinearRegression()"
   ]
  },
  {
   "cell_type": "code",
   "execution_count": 8,
   "id": "e10b1746",
   "metadata": {},
   "outputs": [],
   "source": [
    "# MLP\n",
    "mlp_regressor = MLPRegressor(hidden_layer_sizes=(100, 50), max_iter=1000)"
   ]
  },
  {
   "cell_type": "markdown",
   "id": "19a12fbd",
   "metadata": {},
   "source": [
    "## Cross Validation Training and Evaluation"
   ]
  },
  {
   "cell_type": "code",
   "execution_count": 12,
   "id": "efae0163",
   "metadata": {},
   "outputs": [
    {
     "name": "stdout",
     "output_type": "stream",
     "text": [
      "Regressor Performance:\n",
      "K-nearest Neighbors Regressor - MSE: 0.06939070315893976, R^2: 0.5776685167398439\n",
      "Linear Regression - MSE: 0.1685495569255698, R^2: 0.00114562019962901\n",
      "Multilayer Perceptron Regressor - MSE: 0.05912473122375363, R^2: 0.6395188981095329\n"
     ]
    }
   ],
   "source": [
    "from sklearn.model_selection import KFold\n",
    "\n",
    "# Define the number of folds for cross-validation (k)\n",
    "k_folds = 10\n",
    "\n",
    "# Define a function to perform k-fold cross-validation and output metrics\n",
    "def evaluate_regressor(model, X, y):\n",
    "    mse_scores = []\n",
    "    r2_scores = []\n",
    "\n",
    "    kf = KFold(n_splits=k_folds, shuffle=True, random_state=42)\n",
    "\n",
    "    for train_index, test_index in kf.split(X):\n",
    "        X_train, X_test = X[train_index], X[test_index]\n",
    "        y_train, y_test = y[train_index], y[test_index]\n",
    "\n",
    "        model.fit(X_train, y_train)\n",
    "        y_pred = model.predict(X_test)\n",
    "\n",
    "        mse = mean_squared_error(y_test, y_pred)\n",
    "        r2 = r2_score(y_test, y_pred)\n",
    "\n",
    "        mse_scores.append(mse)\n",
    "        r2_scores.append(r2)\n",
    "\n",
    "    return np.mean(mse_scores), np.mean(r2_scores)\n",
    "\n",
    "# Evaluate regressors on the regression dataset\n",
    "print(\"Regressor Performance:\")\n",
    "knn_mse, knn_r2 = evaluate_regressor(knn_regressor, X_multi, y_multi)\n",
    "linear_mse, linear_r2 = evaluate_regressor(linear_regression, X_multi, y_multi)\n",
    "mlp_mse, mlp_r2 = evaluate_regressor(mlp_regressor, X_multi, y_multi)\n",
    "\n",
    "print(f\"K-nearest Neighbors Regressor - MSE: {knn_mse}, R^2: {knn_r2}\")\n",
    "print(f\"Linear Regression - MSE: {linear_mse}, R^2: {linear_r2}\")\n",
    "print(f\"Multilayer Perceptron Regressor - MSE: {mlp_mse}, R^2: {mlp_r2}\")"
   ]
  },
  {
   "cell_type": "markdown",
   "id": "c6e0c6c1",
   "metadata": {},
   "source": [
    "## Save models"
   ]
  },
  {
   "cell_type": "code",
   "execution_count": 14,
   "id": "d45675fe",
   "metadata": {},
   "outputs": [
    {
     "data": {
      "text/plain": [
       "['mlp_model_multi.pk1']"
      ]
     },
     "execution_count": 14,
     "metadata": {},
     "output_type": "execute_result"
    }
   ],
   "source": [
    "import joblib\n",
    "\n",
    "knn_multi_file = 'knn_model_multi.pkl'\n",
    "joblib.dump(knn_regressor, knn_multi_file)\n",
    "\n",
    "lr_multi_file = 'lr_model_multi.pk1'\n",
    "joblib.dump(linear_regression, lr_multi_file)\n",
    "\n",
    "mlp_multi_file = 'mlp_model_multi.pk1'\n",
    "joblib.dump(mlp_regressor, mlp_multi_file)"
   ]
  },
  {
   "cell_type": "markdown",
   "id": "e68393d6",
   "metadata": {},
   "source": [
    "## CV"
   ]
  },
  {
   "cell_type": "code",
   "execution_count": null,
   "id": "1b10fbb8",
   "metadata": {},
   "outputs": [],
   "source": [
    "#k = 10  # Number of folds\n",
    "# KNN\n",
    "# cv_scores_multi_KNN = cross_val_score(KNeighborsRegressor(n_neighbors=5), X_multi, y_multi, cv=k)\n",
    "\n",
    "# LR\n",
    "#cv_scores_multi_LR = cross_val_score(LinearRegression(), X_multi, y_multi, cv=k)\n",
    "\n",
    "# MLP\n",
    "#cv_scores_multi_MLP = cross_val_score(MLPRegressor(hidden_layer_sizes=hidden_layer_sizes, max_iter=1000), X_multi, y_multi, cv=k)"
   ]
  },
  {
   "cell_type": "markdown",
   "id": "a5ab6e62",
   "metadata": {},
   "source": [
    "## Acc"
   ]
  },
  {
   "cell_type": "code",
   "execution_count": null,
   "id": "ad149595",
   "metadata": {},
   "outputs": [],
   "source": [
    "#accuracy_multi_KNN = cv_scores_multi_KNN.mean()\n",
    "#print(f\"Multi KNN Accuracy: {accuracy_multi_KNN}\")\n",
    "\n",
    "#accuracy_multi_LR = cv_scores_multi_LR.mean()\n",
    "#print(f\"Multi LR Accuracy: {accuracy_multi_LR}\")\n",
    "\n",
    "#accuracy_multi_MLP = cv_scores_multi_MLP.mean()\n",
    "#print(f\"Multi MLP Accuracy: {accuracy_multi_MLP}\")"
   ]
  },
  {
   "cell_type": "markdown",
   "id": "08518976",
   "metadata": {},
   "source": [
    "## CM"
   ]
  },
  {
   "cell_type": "code",
   "execution_count": null,
   "id": "ff8ace2e",
   "metadata": {},
   "outputs": [],
   "source": [
    "# Multilabel KNN\n",
    "# from sklearn.metrics import multilabel_confusion_matrix\n",
    "\n",
    "# y_pred_multi_KNN = knn_clf_multi.predict(X_test_multi)\n",
    "\n",
    "# Compute the multilabel confusion matrix for KNN\n",
    "# confusion_matrices = multilabel_confusion_matrix(y_test_multi, y_pred_multi_KNN)\n",
    "\n",
    "# Print the confusion matrices for each label\n",
    "# for i, confusion_matrix in enumerate(confusion_matrices):\n",
    "#     print(f\"Multi KNN Confusion Matrix for Label {i + 1}:\\n{confusion_matrix}\")"
   ]
  },
  {
   "cell_type": "code",
   "execution_count": null,
   "id": "4b95615a",
   "metadata": {},
   "outputs": [],
   "source": [
    "# Multilabel LR\n",
    "\n",
    "# y_pred_multi_LR = lr_model.predict(X_test_multi)\n",
    "\n",
    "# Compute the multilabel confusion matrix for LR\n",
    "# confusion_matrices_LR = multilabel_confusion_matrix(y_test_multi, y_pred_multi_LR)\n",
    "\n",
    "# Print the confusion matrices for each label\n",
    "# for i, confusion_matrix in enumerate(confusion_matrices_LR):\n",
    "#     print(f\"Multi LR Confusion Matrix for Label {i + 1}:\\n{confusion_matrix}\")"
   ]
  },
  {
   "cell_type": "code",
   "execution_count": null,
   "id": "f06eebcd",
   "metadata": {},
   "outputs": [],
   "source": [
    "# Multi MLP\n",
    "# y_pred_multi_MLP = mlp_clf_multi.predict(X_test_multi)\n",
    "\n",
    "# Compute the multilabel confusion matrix for MLP\n",
    "# confusion_matrices_MLP = multilabel_confusion_matrix(y_test_multi, y_pred_multi_MLP)\n",
    "\n",
    "# Print the confusion matrices for each label\n",
    "# for i, confusion_matrix in enumerate(confusion_matrices_MLP):\n",
    "#     print(f\"Multi MLP Confusion Matrix for Label {i + 1}:\\n{confusion_matrix}\")"
   ]
  }
 ],
 "metadata": {
  "kernelspec": {
   "display_name": "Python 3 (ipykernel)",
   "language": "python",
   "name": "python3"
  },
  "language_info": {
   "codemirror_mode": {
    "name": "ipython",
    "version": 3
   },
   "file_extension": ".py",
   "mimetype": "text/x-python",
   "name": "python",
   "nbconvert_exporter": "python",
   "pygments_lexer": "ipython3",
   "version": "3.11.5"
  }
 },
 "nbformat": 4,
 "nbformat_minor": 5
}
